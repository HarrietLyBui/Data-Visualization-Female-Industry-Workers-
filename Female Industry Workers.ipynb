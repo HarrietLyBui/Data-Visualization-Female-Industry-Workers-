{
 "cells": [
  {
   "cell_type": "code",
   "execution_count": 55,
   "metadata": {
    "scrolled": true
   },
   "outputs": [
    {
     "name": "stderr",
     "output_type": "stream",
     "text": [
      "C:\\Users\\buihu\\Anaconda2\\lib\\site-packages\\bokeh\\util\\deprecation.py:34: BokehDeprecationWarning: \n",
      "Supplying a user-defined data source AND iterable values to glyph methods is deprecated.\n",
      "\n",
      "See https://github.com/bokeh/bokeh/issues/2056 for more information.\n",
      "\n",
      "  warn(message)\n",
      "C:\\Users\\buihu\\Anaconda2\\lib\\site-packages\\bokeh\\util\\deprecation.py:34: BokehDeprecationWarning: \n",
      "Supplying a user-defined data source AND iterable values to glyph methods is deprecated.\n",
      "\n",
      "See https://github.com/bokeh/bokeh/issues/2056 for more information.\n",
      "\n",
      "  warn(message)\n"
     ]
    }
   ],
   "source": [
    "import pandas as pd\n",
    "from bokeh.io import show, output_file\n",
    "from bokeh.plotting import figure\n",
    "from bokeh.models import HoverTool, ColumnDataSource\n",
    "\n",
    "#Read in csv file containing data of % of female industry workers \n",
    "#in the labor force in Colombia and United States\n",
    "data = pd.read_csv('indicator_f industry employ.csv', index_col='Countries', thousands=',')\n",
    "\n",
    "#create a dictionary from the datasource for Colombia\n",
    "sourceColombia = ColumnDataSource(\n",
    "           data= dict (\n",
    "            year = data.columns,\n",
    "            percentageColombia = data.loc['Colombia'],\n",
    "           )\n",
    "       )\n",
    "\n",
    "#create a dictionary from the datasource for the US\n",
    "sourceUS = ColumnDataSource(\n",
    "           data= dict (\n",
    "            year = data.columns,\n",
    "            percentageUS = data.loc['United States']\n",
    "           )\n",
    "       )\n",
    "\n",
    "# Create the figure: p\n",
    "p = figure(x_axis_label='Year', y_axis_label='Female industry workers (%)', \n",
    "           tools=['box_select'])\n",
    "\n",
    "# Create a scatter plot for % of female in the labor force in Colombia over the year\n",
    "colombia = p.square('year', data.loc['Colombia'], size=10, color='purple', selection_color='red', nonselection_alpha=0.1, \n",
    "         hover_fill_color='green', hover_alpha=0.5, hover_line_color='white',  source=sourceColombia)\n",
    "\n",
    "#Create a HoverTool: hoverComlombia\n",
    "hoverComlombia = HoverTool(renderers=[colombia], tooltips=[('Colombia (%):', '@percentageColombia')])\n",
    "\n",
    "#Add the hover tool to the figure p\n",
    "p.add_tools(hoverComlombia)\n",
    "\n",
    "# Create a scatter plot for % of female in the labor force in the US over the year\n",
    "us = p.circle('year', data.loc['United States'], size=10, color='orange', selection_color='red', nonselection_alpha=0.1, \n",
    "         hover_fill_color='green', hover_alpha=0.5, hover_line_color='white',  source=sourceUS)\n",
    "\n",
    "#Create a HoverTool: hoverUS\n",
    "hoverUS = HoverTool(renderers=[us],tooltips=[('US (%):', '@percentageUS')])\n",
    "\n",
    "#Add the hover tool to the figure p\n",
    "p.add_tools(hoverUS)\n",
    "\n",
    "# Specify the name of the output file and show the result\n",
    "output_file('femaleLabor.html')\n",
    "show(p)"
   ]
  },
  {
   "cell_type": "code",
   "execution_count": null,
   "metadata": {
    "collapsed": true
   },
   "outputs": [],
   "source": []
  }
 ],
 "metadata": {
  "kernelspec": {
   "display_name": "Python 2",
   "language": "python",
   "name": "python2"
  },
  "language_info": {
   "codemirror_mode": {
    "name": "ipython",
    "version": 2
   },
   "file_extension": ".py",
   "mimetype": "text/x-python",
   "name": "python",
   "nbconvert_exporter": "python",
   "pygments_lexer": "ipython2",
   "version": "2.7.13"
  }
 },
 "nbformat": 4,
 "nbformat_minor": 2
}
